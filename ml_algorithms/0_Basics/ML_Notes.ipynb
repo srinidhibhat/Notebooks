{
 "cells": [
  {
   "cell_type": "markdown",
   "metadata": {},
   "source": [
    "# Basic Terminologies\n",
    "\n",
    "### Features vs Labels\n",
    "**Feature:** Features are individual independent variables that act as the input in your system. Prediction models use features to make predictions. New features can also be obtained from old features using a method known as *'feature engineering’*. More simply, you can consider one column of your data set to be one feature. Sometimes these are also called *'attributes'*. And the number of features are called *'dimensions'*.  \n",
    "\n",
    "**Label:** Labels are the final output. You can also consider the output classes to be the labels. When data scientists speak of labeled data, they mean groups of samples that have been tagged to one or more labels.  \n",
    "\n",
    "### Model vs Algorithm\n",
    "**Model:** A machine learning model can be a mathematical representation of a real-world process. To generate a machine learning model you will need to provide training data to a machine learning algorithm to learn from.  \n",
    "\n",
    "**Algorithm:** Machine Learning algorithm is the hypothesis set that is taken at the beginning before the training starts with real-world data. When we say *Linear Regression* algorithm, it means a set of functions that define similar characteristics as defined by Linear Regression and from those set of functions we will choose one function that fits the most by the training data.  \n",
    "\n",
    "### Regression vs Classification\n",
    "**Regression:** Regression techniques are used when the output is real-valued based on continuous variables. For example, any time series data. This technique involves fitting a line.  \n",
    "\n",
    "**Classification:** In classification, you will need to categorize data into predefined classes. For example, an email can either be ‘spam’ or ‘not spam’.  \n",
    "\n",
    "### Supervised vs Unsupervised Learning\n",
    "**Supervised learning:** Supervised learning is typically done in the context of classification, when we want to map input to output labels, or regression, when we want to map input to a continuous output. Common algorithms in supervised learning include logistic regression, naive bayes, support vector machines, artificial neural networks, and random forests. In both regression and classification, the goal is to find specific relationships or structure in the input data that allow us to effectively produce correct output data. Note that *“correct”* output is determined entirely from the training data, so while we do have a ground truth that our model will assume is true, it is not to say that data labels are always correct in real-world situations. Noisy, or incorrect, data labels will clearly reduce the effectiveness of your model.\n",
    "\n",
    "**Unsupervised learning:** The most common tasks within unsupervised learning are clustering, representation learning, and density estimation. In all of these cases, we wish to learn the inherent structure of our data without using explicitly-provided labels. Some common algorithms include k-means clustering, principal component analysis, and autoencoders. Since no labels are provided, there is no specific way to compare model performance in most unsupervised learning methods. Two common use-cases for unsupervised learning are exploratory analysis and dimensionality reduction.\n",
    "\n",
    "\n",
    "### Datasets\n",
    "**Training Dataset:** The sample of data used to fit the model. It is the actual dataset that we use to train the model. The model sees and learns from this data.  \n",
    "\n",
    "**Validation Dataset:** The sample of data used to provide an unbiased evaluation of a model fit on the training dataset while tuning model hyperparameters. The evaluation becomes more biased as skill on the validation dataset is incorporated into the model configuration.  \n",
    "\n",
    "**Test Dataset:** The sample of data used to provide an unbiased evaluation of a final model fit on the training dataset.\n",
    "\n",
    "\n",
    "\n",
    "Sources: <a href=\"https://medium.com/technology-nineleaps/some-key-machine-learning-definitions-b524eb6cb48\">[1]</a>,\n",
    "<a href=\"https://towardsdatascience.com/supervised-vs-unsupervised-learning-14f68e32ea8d\">[2]</a>\n",
    "<a href=\"https://machinelearningmastery.com/difference-test-validation-datasets/\">[3]</a>\n",
    "<a href=\"\"></a>"
   ]
  },
  {
   "cell_type": "markdown",
   "metadata": {},
   "source": []
  }
 ],
 "metadata": {
  "kernelspec": {
   "display_name": "Python 3",
   "language": "python",
   "name": "python3"
  },
  "language_info": {
   "codemirror_mode": {
    "name": "ipython",
    "version": 3
   },
   "file_extension": ".py",
   "mimetype": "text/x-python",
   "name": "python",
   "nbconvert_exporter": "python",
   "pygments_lexer": "ipython3",
   "version": "3.8.1"
  }
 },
 "nbformat": 4,
 "nbformat_minor": 4
}
