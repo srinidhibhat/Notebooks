{
 "cells": [
  {
   "cell_type": "markdown",
   "metadata": {},
   "source": [
    "## Unsupervised Learning\n",
    "An unsupervised learning method is a method in which we draw references from datasets consisting of input data without labelled responses. Generally, it is used as a process to find meaningful structure, explanatory underlying processes, generative features, and groupings inherent in a set of examples.\n",
    "\n",
    "## Clustering\n",
    "Clustering is the task of dividing the population or data points into a number of groups such that data points in the same groups are more similar to other data points in the same group and dissimilar to the data points in other groups. It is basically a collection of objects on the basis of similarity and dissimilarity between them.  \n",
    "\n",
    "**Clustering** comes in two major forms: Flat and Hierarchical.  \n",
    "\n",
    "With both forms of clustering, the machine is tasked with receiving a dataset that is just featuresets, and then the machine searches for groups and assigns classes on its own. With **Flat clustering**, the scientist tells the machine how many classes/clusters to find. With **Hierarchical clustering**, the machine figures out the groups and how many.  \n",
    "\n",
    "## Why clustering?\n",
    "The objective of clustering is to find relationships and meaning in data. \n",
    "- In most cases, people use clustering mostly as a step in what's known as \"semi-supervised\" machine learning. The idea here is you might use clustering to define classes, and then use a supervised machine learning algorithm to do further classification. \n",
    "- Another use is for feature selection and validation. For example, consider our Breast Cancer dataset that we've been using. We might believe the features we've chosen are indeed descriptive and meaningful. One option we have is to feed this data through a K Means algorithm, and then indeed see whether or not the two groups we thought we were tracking were actually described by the data in a way we expected.  \n",
    "\n",
    "The field of **\"Big Data Analysis\"** is generally a prime area for clustering. There's plenty of data, but most companies have absolutely no idea what to do with it or how to actually get meaning from it. Clustering can help data scientists to begin to structure and look into expansive datasets for meaning.  \n",
    "\n",
    "Finally, clustering can also be used for typical classification, you just don't actually need to feed it what the classifications are beforehand, but, if you use clustering on most of the popular classification datasets, you should find that it tends to figure out the groups anyway. This is mainly useful for \"testing\" the algorithm to make sure it actually works.  \n",
    "\n",
    "<a href=\"https://www.geeksforgeeks.org/clustering-in-machine-learning/\">source</a>"
   ]
  }
 ],
 "metadata": {
  "kernelspec": {
   "display_name": "Python 3",
   "language": "python",
   "name": "python3"
  },
  "language_info": {
   "codemirror_mode": {
    "name": "ipython",
    "version": 3
   },
   "file_extension": ".py",
   "mimetype": "text/x-python",
   "name": "python",
   "nbconvert_exporter": "python",
   "pygments_lexer": "ipython3",
   "version": "3.8.1"
  }
 },
 "nbformat": 4,
 "nbformat_minor": 4
}
