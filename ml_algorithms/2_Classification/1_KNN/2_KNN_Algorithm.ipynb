{
 "cells": [
  {
   "cell_type": "markdown",
   "metadata": {},
   "source": [
    "## About the Algorithm\n",
    "K Nearest Neighbors boils down to proximity, not by group, but by individual points. Thus, all this algorithm is actually doing is computing distance between points, and then picking the most popular class of the top K classes of points nearest to it.  \n",
    "<br>\n",
    "There are various ways to compute distance on a plane, many of which you can use here, but the most accepted version is **Euclidean Distance**, named after Euclid, a famous mathematician who is popularly referred to as the father of Geometry.  \n",
    "<br>\n",
    "### Euclidean distance is:\n",
    "<img src=\"https://pythonprogramming.net/static/images/machine-learning/euclidean-distance.png\">  \n",
    "\n",
    "Lets program it!"
   ]
  },
  {
   "cell_type": "code",
   "execution_count": 20,
   "metadata": {},
   "outputs": [
    {
     "name": "stdout",
     "output_type": "stream",
     "text": [
      "2.23606797749979\n"
     ]
    }
   ],
   "source": [
    "import math\n",
    "\n",
    "plot1 = [1,3]\n",
    "plot2 = [2,5]\n",
    "\n",
    "euclidean_distance = math.sqrt( (plot1[0]-plot2[0])**2 + (plot1[1]-plot2[1])**2 )\n",
    "print(euclidean_distance)"
   ]
  },
  {
   "cell_type": "markdown",
   "metadata": {},
   "source": [
    "Lets start programming our own K Nearest Neighbor classifier!"
   ]
  },
  {
   "cell_type": "markdown",
   "metadata": {},
   "source": [
    "Lets import all the necessary modules"
   ]
  },
  {
   "cell_type": "code",
   "execution_count": 21,
   "metadata": {},
   "outputs": [],
   "source": [
    "import numpy as np\n",
    "import pandas as pd\n",
    "import warnings\n",
    "import matplotlib.pyplot as plt\n",
    "from matplotlib import style\n",
    "from math import sqrt\n",
    "from collections import Counter"
   ]
  },
  {
   "cell_type": "markdown",
   "metadata": {},
   "source": [
    "## Dataset\n",
    "Lets create a mini dataset and features.  \n",
    "Here, the dataset dictionary contains two groups *'k'* and *'r'* (We are naming it as color shorthands, so that it is easier to visualize two colors as two groups). Each group has 3 features (say points in the graph).  \n",
    "We need to identify to which group our *new_features* belong to."
   ]
  },
  {
   "cell_type": "code",
   "execution_count": 22,
   "metadata": {},
   "outputs": [],
   "source": [
    "dataset = {\n",
    "              'k':[[1,2],[2,3],[3,1]],\n",
    "              'r':[[6,5],[7,7],[8,6]]\n",
    "          }\n",
    "\n",
    "new_features = [5,7]"
   ]
  },
  {
   "cell_type": "markdown",
   "metadata": {},
   "source": [
    "We can quickly plot it and understand the features visually"
   ]
  },
  {
   "cell_type": "code",
   "execution_count": 23,
   "metadata": {},
   "outputs": [
    {
     "data": {
      "image/png": "[encoded data removed]",
      "text/plain": [
       "<Figure size 432x288 with 1 Axes>"
      ]
     },
     "metadata": {
      "needs_background": "light"
     },
     "output_type": "display_data"
    }
   ],
   "source": [
    "[[plt.scatter(feature[0],feature[1],s=100,color=group) for feature in dataset[group]] for group in dataset]\n",
    "plt.scatter(new_features[0], new_features[1], s=100, color='g')\n",
    "\n",
    "plt.show()"
   ]
  },
  {
   "cell_type": "markdown",
   "metadata": {},
   "source": [
    "## Algorithm\n",
    "\n",
    "The main downfall of K Nearest Neighbors is that we have to compare the data in question to all of the points from the dataset before we can know what the closest three points are. As such, K Nearest Neighbors performs slower and slower the more data you have."
   ]
  },
  {
   "cell_type": "code",
   "execution_count": 24,
   "metadata": {},
   "outputs": [],
   "source": [
    "def k_nearest_neighbors(data, predict, k=3):\n",
    "    if len(data) >= k:\n",
    "        warnings.warn('K is set to a value less than total number of groups!')\n",
    "    \n",
    "    # now we will calculate euclidean distances for the predict data with all features\n",
    "    distances = []\n",
    "    for group in data:\n",
    "        for features in data[group]:\n",
    "        # euclidean_distance = np.sqrt(np.sum((np.array(features)-np.array(predict))**2)\n",
    "            euclidean_distance = np.linalg.norm(np.array(features) - np.array(predict))\n",
    "            distances.append([euclidean_distance, group])\n",
    "    \n",
    "    # we will sort the array (from shortest to largest distance), consider first 'k' values, and store the groups it belongs to\n",
    "    # we don't care what the euclidean distance is anymore\n",
    "    votes = [distance[1] for distance in sorted(distances)[:k]]\n",
    "    result = Counter(votes).most_common(1)[0][0]    # [*see comments below]\n",
    "    \n",
    "    return result"
   ]
  },
  {
   "cell_type": "markdown",
   "metadata": {},
   "source": [
    "We could have used our version of calculating *euclidean_distance* in the algorithm. But numpy provides a faster and better method to do that. With KNN being a sort of brute-force method for machine learning, we need all the help we can get.  \n",
    "<br>\n",
    "[*]Collections finds the most common elements. In our case, we just want the single most common, but we can find the top 3 or top 'x' elements. Without doing the [0][0] part, we get [('r', 3)] (i.e 3 euclidean distances are closer to __'r'__ group). Thus, [0][0] gives us the first element in the tuple. "
   ]
  },
  {
   "cell_type": "markdown",
   "metadata": {},
   "source": [
    "Lets do a prediction for the point we plotted earlier"
   ]
  },
  {
   "cell_type": "code",
   "execution_count": 25,
   "metadata": {},
   "outputs": [
    {
     "name": "stdout",
     "output_type": "stream",
     "text": [
      "r\n"
     ]
    }
   ],
   "source": [
    "result = k_nearest_neighbors(dataset, new_features)\n",
    "print(result)"
   ]
  },
  {
   "cell_type": "markdown",
   "metadata": {},
   "source": [
    "Lets plot it all together once again"
   ]
  },
  {
   "cell_type": "code",
   "execution_count": 26,
   "metadata": {},
   "outputs": [
    {
     "data": {
      "image/png": "[encoded data removed]",
      "text/plain": [
       "<Figure size 432x288 with 1 Axes>"
      ]
     },
     "metadata": {
      "needs_background": "light"
     },
     "output_type": "display_data"
    }
   ],
   "source": [
    "[[plt.scatter(feature[0],feature[1],s=100,color=group) for feature in dataset[group]] for group in dataset]\n",
    "plt.scatter(new_features[0], new_features[1], s=150, color = result)  # plotting our new feature bigger than others\n",
    "plt.show()"
   ]
  },
  {
   "cell_type": "markdown",
   "metadata": {},
   "source": [
    "## Testing\n",
    "Now, we're going to use the breast cancer dataset to test our custom KNN Algorithm.  \n",
    "The Scikit-Learn K Nearest Neighbors gave us ~95% accuracy on average, and now we're going to test our own algorithm."
   ]
  },
  {
   "cell_type": "markdown",
   "metadata": {},
   "source": [
    "Lets load the data from the file, replace invalid values and convert everything to float type."
   ]
  },
  {
   "cell_type": "code",
   "execution_count": 27,
   "metadata": {},
   "outputs": [],
   "source": [
    "df = pd.read_csv('data/breast-cancer-wisconsin.data')\n",
    "df.replace('?',-99999, inplace=True)\n",
    "df.drop(['id'], 1, inplace=True)\n",
    "full_data = df.astype(float).values.tolist()"
   ]
  },
  {
   "cell_type": "markdown",
   "metadata": {},
   "source": [
    "Now lets implement our own test-train dataset splitting code.  \n",
    "First we will shuffle the data and then create training and testing sets."
   ]
  },
  {
   "cell_type": "code",
   "execution_count": 28,
   "metadata": {},
   "outputs": [],
   "source": [
    "import random\n",
    "\n",
    "random.shuffle(full_data)\n",
    "test_size = 0.2\n",
    "# train and test set dictionaries with groups as keys (2 - benign, 4 - malignant)\n",
    "train_set = {2 : [], 4 : []}\n",
    "test_set = {2 : [], 4 : []}\n",
    "\n",
    "train_data = full_data[:-int(test_size*len(full_data))]\n",
    "test_data = full_data[-int(test_size*len(full_data)):]\n",
    "\n",
    "# populating the dictionaries\n",
    "# remember that last coulmn contains the label (2 or 4)\n",
    "for row in train_data:\n",
    "    train_set[row[-1]].append(row[:-1])\n",
    "    \n",
    "for row in test_data:\n",
    "    test_set[row[-1]].append(row[:-1])"
   ]
  },
  {
   "cell_type": "markdown",
   "metadata": {},
   "source": [
    "Now, lets train and test the data"
   ]
  },
  {
   "cell_type": "code",
   "execution_count": 29,
   "metadata": {},
   "outputs": [
    {
     "name": "stdout",
     "output_type": "stream",
     "text": [
      "Accuracy:  0.9784172661870504\n"
     ]
    }
   ],
   "source": [
    "correct = 0\n",
    "total = 0\n",
    "\n",
    "for group in test_set:\n",
    "    for test_data in test_set[group]:\n",
    "        result = k_nearest_neighbors(train_set, test_data, k=3)\n",
    "        if group == result:\n",
    "            correct += 1\n",
    "        total += 1\n",
    "        \n",
    "print(\"Accuracy: \", correct/total)\n"
   ]
  },
  {
   "cell_type": "markdown",
   "metadata": {},
   "source": [
    "Now you can perform this test 100 times (by wrapping a for loop around our code) on both the `Scikit-Learn neighbors.KNeighborsClassifier` classifier and our custom-made classifier and find out that the average accuracy of both the algorithms is identical, with around 0.97, or 97%, accuracy.  \n",
    "Although with respect to speed, `Scikit-Learn neighbors.KNeighborsClassifier` is around 10 times faster than our custom classifier."
   ]
  },
  {
   "cell_type": "markdown",
   "metadata": {},
   "source": [
    "Finally, one last point about actual prediction confidence.  \n",
    "There are two ways to measure confidence. \n",
    " 1. One way is by comparing how many examples we got correct vs incorrect in the testing stage.\n",
    " 2. Another way, is by checking the vote percentage.  \n",
    " For example, our overall algorithm may be 97% accurate, but on some of the classifications the votes may have been 3 to 2. While 3 is the majority, it's only 60% vote rather than 100% which would be ideal. In terms of telling someone whether or not they have breast cancer, we probably prefer 100%!  \n",
    " Thus, in the case of 60% vote on a 97% accurate classifier, we can be 97% sure that we are only 60% certain about your classification. It's totally possible that this 60% vote is responsible for part of the 3% that was inaccurately measured."
   ]
  },
  {
   "cell_type": "code",
   "execution_count": null,
   "metadata": {},
   "outputs": [],
   "source": []
  }
 ],
 "metadata": {
  "kernelspec": {
   "display_name": "Python 3",
   "language": "python",
   "name": "python3"
  },
  "language_info": {
   "codemirror_mode": {
    "name": "ipython",
    "version": 3
   },
   "file_extension": ".py",
   "mimetype": "text/x-python",
   "name": "python",
   "nbconvert_exporter": "python",
   "pygments_lexer": "ipython3",
   "version": "3.8.1"
  }
 },
 "nbformat": 4,
 "nbformat_minor": 4
}
