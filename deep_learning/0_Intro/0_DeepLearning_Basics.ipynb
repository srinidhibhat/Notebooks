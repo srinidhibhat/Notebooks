{
 "cells": [
  {
   "cell_type": "markdown",
   "metadata": {},
   "source": [
    "# Deep Learning\n",
    "Deep learning is the process of applying deep neural network technologies to solve problems. Deep neural networks are neural networks with at least one hidden layer. Like data mining, deep learning refers to a process, which employs deep neural network architectures, which are particular types of machine learning algorithms.\n",
    "\n",
    "<img src=\"https://www.kdnuggets.com/wp-content/uploads/data-science-puzzle-600.jpg\">\n",
    "As shown in the image above, deep learning is to data mining as (deep) neural networks are to machine learning (process versus architecture). Also visible is the fact that deep neural networks are heavily involved in contemporary artificial intelligence.\n",
    "\n",
    "<img src=\"https://www.kdnuggets.com/wp-content/uploads/neural-networks-layers.jpg\">"
   ]
  },
  {
   "cell_type": "markdown",
   "metadata": {},
   "source": [
    "## Lets understand some terminologies\n",
    "\n",
    "### Artificial Neural Networks (ANNs)\n",
    "\n",
    "The machine learning architecture is originally inspired by the biological brain (particularly the neuron) by which deep learning is carried out. Artificial neural networks alone (the non-deep variety) have been around for a very long time. However, the recently devised neural network architectures included layers of hidden neurons (beyond simply the input and output layers), and this added level of complexity is what enables deep learning, and provides a more powerful set of problem-solving tools.  \n",
    "ANNs actually vary in their architectures quite considerably, and therefore there is no definitive neural network definition. The 2 generally-cited characteristics of all ANNs are the possession of **adaptive weight sets**, and **the capability of approximating non-linear functions of the inputs to neurons**.\n",
    "\n",
    "### Feedforward Neural Network\n",
    "\n",
    "Feedforward neural networks are the simplest form of neural network architecture, in which connections are non-cyclical. Information in a feedforward network advances in a single direction from the input nodes, though any hidden layers, to the output nodes - no cycles are present. \n",
    "\n",
    "### Recurrent Neural Network\n",
    "\n",
    "In contrast to the feedforward neural networks, the connections of recurrent neural networks form a directed cycle. This bidirectional flow allows for internal temporal state representation, which, in turn, allows sequence processing, and, of note, provides the necessary capabilities for recognizing speech and handwriting.\n",
    "\n",
    "### Activation Function\n",
    "\n",
    "In neural networks, the activation function produces the output decision boundaries by combining the network's weighted inputs. Activation functions range from identity (linear) to sigmoid (logistic, or soft step) to hyperbolic (tangent) and beyond. In order to employ backpropagation (see below), the network must utilize activation functions which are differentiable.\n",
    "<img src=\"https://www.kdnuggets.com/wp-content/uploads/activation-functions.jpg\">\n",
    "\n",
    "### Backpropagation\n",
    "\n",
    "Back prop is just gradient descent on individual errors. You compare the predictions of the neural network with the desired output and then compute the gradient of the errors with respect to the weights of the neural network. This gives you a direction in the parameter weight space in which the error would become smaller. \n",
    "\n",
    "### Cost Function\n",
    "\n",
    "When training a neural network, the correctness of the network's output must be assessed. As we know the expected correct output of training data, the output of training can be compared. The cost function measures the difference between actual and training outputs. A cost of zero between the actual and expected outputs would signify that the network has been training as would be possible; this would clearly be ideal.\n",
    "\n",
    "### Gradient Descent\n",
    "\n",
    "Gradient descent is an optimization algorithm used for finding local minima of functions. While it does not guarantee a global minimum, gradient descent is especially useful for functions which are difficult to solve analytically for precise solutions, such as setting derivatives to zero and solving.\n",
    "<img src=\"https://www.kdnuggets.com/wp-content/uploads/gradient-descent-step.jpg\">\n",
    "\n",
    "### Convolutional Neural Network\n",
    "\n",
    "Typically associated with computer vision and image recogntion, Convolutional Neural Networks (CNNs) employ the mathematical concept of convolution to mimic the neural connectivity mesh of the biological visual cortex.  \n",
    "First, convolution, can be thought of as a sliding window over top a matrix representation of an image (see below). This allows for the loose mimicking of the overlapping tiling of the biological visual field.\n",
    "<img src=\"http://deeplearning.stanford.edu/wiki/images/6/6c/Convolution_schematic.gif\">\n",
    "Implementation of this concept in the architecture of the neural network results in collections of neurons dedicated to processing image sections, at least when employed in computer vision. When utilized in some other domain, such as natural language processing, the same approach can be used, given that input (words, sentences, etc.) could be arranged in matrices and processed in similar fashion.  \n",
    "\n",
    "<a href=\"https://www.kdnuggets.com/2016/10/deep-learning-key-terms-explained.html\">source</a>"
   ]
  },
  {
   "cell_type": "code",
   "execution_count": null,
   "metadata": {},
   "outputs": [],
   "source": []
  }
 ],
 "metadata": {
  "kernelspec": {
   "display_name": "Python 3",
   "language": "python",
   "name": "python3"
  },
  "language_info": {
   "codemirror_mode": {
    "name": "ipython",
    "version": 3
   },
   "file_extension": ".py",
   "mimetype": "text/x-python",
   "name": "python",
   "nbconvert_exporter": "python",
   "pygments_lexer": "ipython3",
   "version": "3.8.1"
  }
 },
 "nbformat": 4,
 "nbformat_minor": 4
}
